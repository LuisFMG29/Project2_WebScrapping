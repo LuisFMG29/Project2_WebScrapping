{
 "cells": [
  {
   "cell_type": "code",
   "execution_count": 1,
   "id": "e7f73575-e8b4-40f6-b104-cb6fa1bf8f8b",
   "metadata": {},
   "outputs": [],
   "source": [
    "import requests\n",
    "import pandas as pd\n",
    "from bs4 import BeautifulSoup\n",
    "from selenium import webdriver\n",
    "from selenium.webdriver.common.keys import Keys \n",
    "from selenium.webdriver.common.action_chains import ActionChains\n",
    "from selenium.webdriver.common.by import By\n",
    "import time"
   ]
  },
  {
   "cell_type": "code",
   "execution_count": 2,
   "id": "a8b8a1ee-6b1f-47d5-aaa5-8e8a88e0ca0b",
   "metadata": {},
   "outputs": [],
   "source": [
    "url = 'https://www.imdb.com/feature/genre/?ref_=nv_ch_gr/'"
   ]
  },
  {
   "cell_type": "code",
   "execution_count": 3,
   "id": "b03eb49d-6be9-441f-ac63-3159ee93c088",
   "metadata": {},
   "outputs": [],
   "source": [
    "driver = webdriver.Chrome()"
   ]
  },
  {
   "cell_type": "code",
   "execution_count": 4,
   "id": "abdd88ef-de05-46aa-b415-805955f3bd11",
   "metadata": {},
   "outputs": [],
   "source": [
    "driver.get(url)"
   ]
  },
  {
   "cell_type": "code",
   "execution_count": 5,
   "id": "6f5e6ac4-d13f-458c-92ad-e9b980467af7",
   "metadata": {},
   "outputs": [],
   "source": [
    "imdbsoup = BeautifulSoup(driver.page_source)"
   ]
  },
  {
   "cell_type": "code",
   "execution_count": 6,
   "id": "82f75b2e-2ca6-4761-a6cb-4f90919ede9b",
   "metadata": {},
   "outputs": [],
   "source": [
    "gen=[element['href'] for element in imdbsoup.select('div.image > a')]"
   ]
  },
  {
   "cell_type": "code",
   "execution_count": 7,
   "id": "500ec795-0570-45f5-aa03-fc2d3980050a",
   "metadata": {},
   "outputs": [
    {
     "data": {
      "text/plain": [
       "15"
      ]
     },
     "execution_count": 7,
     "metadata": {},
     "output_type": "execute_result"
    }
   ],
   "source": [
    "len(gen)"
   ]
  },
  {
   "cell_type": "code",
   "execution_count": null,
   "id": "8161549d-92ca-4957-beed-5da058a13cc5",
   "metadata": {},
   "outputs": [],
   "source": []
  },
  {
   "cell_type": "code",
   "execution_count": 8,
   "id": "c65fb970-1852-4492-a478-62da36f7fa9a",
   "metadata": {},
   "outputs": [],
   "source": [
    "driver.get(str(gen[0]))\n"
   ]
  },
  {
   "cell_type": "code",
   "execution_count": 9,
   "id": "94ea0507-1f2c-437c-b8b0-e0b04db003b3",
   "metadata": {},
   "outputs": [],
   "source": [
    "imdbsoup = BeautifulSoup(driver.page_source)"
   ]
  },
  {
   "cell_type": "code",
   "execution_count": null,
   "id": "6fa015a0-e12e-4d32-a25d-ce2e73079be2",
   "metadata": {},
   "outputs": [],
   "source": []
  },
  {
   "cell_type": "code",
   "execution_count": 10,
   "id": "cf0eb73c-3d64-46ce-b156-f2c4ed62cbb5",
   "metadata": {},
   "outputs": [],
   "source": [
    "titulos=[element.text for element in imdbsoup.select('div.lister-item-content > h3.lister-item-header > a')]\n",
    "años=[element.text.strip('()') for element in imdbsoup.select('div.lister-item-content > h3.lister-item-header > span.lister-item-year.text-muted.unbold')]\n",
    "generos=[element.text.strip(' \\n') for element in imdbsoup.select('span.genre')]"
   ]
  },
  {
   "cell_type": "code",
   "execution_count": 11,
   "id": "dcebac6d-a9e1-4ea3-aad3-36e6db98e516",
   "metadata": {},
   "outputs": [],
   "source": [
    "data = {'Titulo': titulos, 'Año de estreno - Año finalización': años, 'Generos':generos}\n"
   ]
  },
  {
   "cell_type": "code",
   "execution_count": 12,
   "id": "f8bc7f1f-e88b-4ffd-98db-595646409960",
   "metadata": {},
   "outputs": [],
   "source": [
    "df_base = pd.DataFrame(data)"
   ]
  },
  {
   "cell_type": "code",
   "execution_count": 13,
   "id": "ebb8028d-51f6-4fea-ae4a-afa786d2f7fc",
   "metadata": {},
   "outputs": [
    {
     "data": {
      "text/html": [
       "<div>\n",
       "<style scoped>\n",
       "    .dataframe tbody tr th:only-of-type {\n",
       "        vertical-align: middle;\n",
       "    }\n",
       "\n",
       "    .dataframe tbody tr th {\n",
       "        vertical-align: top;\n",
       "    }\n",
       "\n",
       "    .dataframe thead th {\n",
       "        text-align: right;\n",
       "    }\n",
       "</style>\n",
       "<table border=\"1\" class=\"dataframe\">\n",
       "  <thead>\n",
       "    <tr style=\"text-align: right;\">\n",
       "      <th></th>\n",
       "      <th>Titulo</th>\n",
       "      <th>Año de estreno - Año finalización</th>\n",
       "      <th>Generos</th>\n",
       "    </tr>\n",
       "  </thead>\n",
       "  <tbody>\n",
       "    <tr>\n",
       "      <th>0</th>\n",
       "      <td>El año de mi graduación</td>\n",
       "      <td>2022</td>\n",
       "      <td>Comedy, Drama</td>\n",
       "    </tr>\n",
       "    <tr>\n",
       "      <th>1</th>\n",
       "      <td>Everything Everywhere All at Once</td>\n",
       "      <td>2022</td>\n",
       "      <td>Action, Adventure, Comedy</td>\n",
       "    </tr>\n",
       "    <tr>\n",
       "      <th>2</th>\n",
       "      <td>She-Hulk: Attorney at Law</td>\n",
       "      <td>2022–</td>\n",
       "      <td>Action, Adventure, Comedy</td>\n",
       "    </tr>\n",
       "    <tr>\n",
       "      <th>3</th>\n",
       "      <td>La Ciudad Perdida</td>\n",
       "      <td>2022</td>\n",
       "      <td>Action, Adventure, Comedy</td>\n",
       "    </tr>\n",
       "    <tr>\n",
       "      <th>4</th>\n",
       "      <td>This is Us</td>\n",
       "      <td>2016–2022</td>\n",
       "      <td>Comedy, Drama, Romance</td>\n",
       "    </tr>\n",
       "  </tbody>\n",
       "</table>\n",
       "</div>"
      ],
      "text/plain": [
       "                              Titulo Año de estreno - Año finalización  \\\n",
       "0            El año de mi graduación                              2022   \n",
       "1  Everything Everywhere All at Once                              2022   \n",
       "2          She-Hulk: Attorney at Law                            2022–    \n",
       "3                  La Ciudad Perdida                              2022   \n",
       "4                         This is Us                         2016–2022   \n",
       "\n",
       "                     Generos  \n",
       "0              Comedy, Drama  \n",
       "1  Action, Adventure, Comedy  \n",
       "2  Action, Adventure, Comedy  \n",
       "3  Action, Adventure, Comedy  \n",
       "4     Comedy, Drama, Romance  "
      ]
     },
     "execution_count": 13,
     "metadata": {},
     "output_type": "execute_result"
    }
   ],
   "source": [
    "df_base.head()"
   ]
  },
  {
   "cell_type": "code",
   "execution_count": 14,
   "id": "f22a3782-d66a-4d54-b041-892e87c682a5",
   "metadata": {},
   "outputs": [
    {
     "data": {
      "text/plain": [
       "(50, 3)"
      ]
     },
     "execution_count": 14,
     "metadata": {},
     "output_type": "execute_result"
    }
   ],
   "source": [
    "df_base.shape"
   ]
  },
  {
   "cell_type": "code",
   "execution_count": null,
   "id": "0e4ad744-2f91-4dcb-a19c-d946d97ac5a2",
   "metadata": {},
   "outputs": [],
   "source": []
  },
  {
   "cell_type": "code",
   "execution_count": 15,
   "id": "41eba741-326f-430c-97f3-3a5edea04e64",
   "metadata": {},
   "outputs": [],
   "source": [
    "for i in range (9):\n",
    "    element = driver.find_element(By.LINK_TEXT, (\"Next »\"))\n",
    "    element.click()\n",
    "    time.sleep(3)\n",
    "    imdbsoup = BeautifulSoup(driver.page_source)\n",
    "    titulos=[element.text for element in imdbsoup.select('div.lister-item-content > h3.lister-item-header > a')]\n",
    "    años=[element.text.strip('()') for element in imdbsoup.select('div.lister-item-content > h3.lister-item-header > span.lister-item-year.text-muted.unbold')]\n",
    "    generos=[element.text.strip(' \\n') for element in imdbsoup.select('span.genre')]\n",
    "    datos = {'Titulo': titulos, 'Año de estreno - Año finalización': años, 'Generos':generos}\n",
    "    df = pd.DataFrame(datos)\n",
    "    df_base=df_base.append(df)"
   ]
  },
  {
   "cell_type": "code",
   "execution_count": 16,
   "id": "b333f701-69e3-48a8-87c4-b071f59084ab",
   "metadata": {},
   "outputs": [
    {
     "data": {
      "text/plain": [
       "['https://www.imdb.com/search/title?genres=comedy&explore=title_type,genres&pf_rd_m=A2FGELUUNOQJNL&pf_rd_p=3396781f-d87f-4fac-8694-c56ce6f490fe&pf_rd_r=YGNJB356SP7DCQVZXY9Z&pf_rd_s=center-1&pf_rd_t=15051&pf_rd_i=genre&ref_=ft_gnr_pr1_i_1',\n",
       " 'https://www.imdb.com/search/title?genres=sci-fi&explore=title_type,genres&pf_rd_m=A2FGELUUNOQJNL&pf_rd_p=3396781f-d87f-4fac-8694-c56ce6f490fe&pf_rd_r=YGNJB356SP7DCQVZXY9Z&pf_rd_s=center-1&pf_rd_t=15051&pf_rd_i=genre&ref_=ft_gnr_pr1_i_2',\n",
       " 'https://www.imdb.com/search/title?genres=horror&explore=title_type,genres&pf_rd_m=A2FGELUUNOQJNL&pf_rd_p=3396781f-d87f-4fac-8694-c56ce6f490fe&pf_rd_r=YGNJB356SP7DCQVZXY9Z&pf_rd_s=center-1&pf_rd_t=15051&pf_rd_i=genre&ref_=ft_gnr_pr1_i_3',\n",
       " 'https://www.imdb.com/search/title?genres=romance&explore=title_type,genres&pf_rd_m=A2FGELUUNOQJNL&pf_rd_p=e0da8c98-35e8-4ebd-8e86-e7d39c92730c&pf_rd_r=YGNJB356SP7DCQVZXY9Z&pf_rd_s=center-2&pf_rd_t=15051&pf_rd_i=genre&ref_=ft_gnr_pr2_i_1',\n",
       " 'https://www.imdb.com/search/title?genres=action&explore=title_type,genres&pf_rd_m=A2FGELUUNOQJNL&pf_rd_p=e0da8c98-35e8-4ebd-8e86-e7d39c92730c&pf_rd_r=YGNJB356SP7DCQVZXY9Z&pf_rd_s=center-2&pf_rd_t=15051&pf_rd_i=genre&ref_=ft_gnr_pr2_i_2',\n",
       " 'https://www.imdb.com/search/title?genres=thriller&explore=title_type,genres&pf_rd_m=A2FGELUUNOQJNL&pf_rd_p=e0da8c98-35e8-4ebd-8e86-e7d39c92730c&pf_rd_r=YGNJB356SP7DCQVZXY9Z&pf_rd_s=center-2&pf_rd_t=15051&pf_rd_i=genre&ref_=ft_gnr_pr2_i_3',\n",
       " 'https://www.imdb.com/search/title?genres=drama&explore=title_type,genres&pf_rd_m=A2FGELUUNOQJNL&pf_rd_p=f1cf7b98-03fb-4a83-95f3-d833fdba0471&pf_rd_r=YGNJB356SP7DCQVZXY9Z&pf_rd_s=center-3&pf_rd_t=15051&pf_rd_i=genre&ref_=ft_gnr_pr3_i_1',\n",
       " 'https://www.imdb.com/search/title?genres=mystery&explore=title_type,genres&pf_rd_m=A2FGELUUNOQJNL&pf_rd_p=f1cf7b98-03fb-4a83-95f3-d833fdba0471&pf_rd_r=YGNJB356SP7DCQVZXY9Z&pf_rd_s=center-3&pf_rd_t=15051&pf_rd_i=genre&ref_=ft_gnr_pr3_i_2',\n",
       " 'https://www.imdb.com/search/title?genres=crime&explore=title_type,genres&pf_rd_m=A2FGELUUNOQJNL&pf_rd_p=f1cf7b98-03fb-4a83-95f3-d833fdba0471&pf_rd_r=YGNJB356SP7DCQVZXY9Z&pf_rd_s=center-3&pf_rd_t=15051&pf_rd_i=genre&ref_=ft_gnr_pr3_i_3',\n",
       " 'https://www.imdb.com/search/title?genres=animation&explore=title_type,genres&pf_rd_m=A2FGELUUNOQJNL&pf_rd_p=fd0c0dd4-de47-4168-baa8-239e02fd9ee7&pf_rd_r=YGNJB356SP7DCQVZXY9Z&pf_rd_s=center-4&pf_rd_t=15051&pf_rd_i=genre&ref_=ft_gnr_pr4_i_1',\n",
       " 'https://www.imdb.com/search/title?genres=adventure&explore=title_type,genres&pf_rd_m=A2FGELUUNOQJNL&pf_rd_p=fd0c0dd4-de47-4168-baa8-239e02fd9ee7&pf_rd_r=YGNJB356SP7DCQVZXY9Z&pf_rd_s=center-4&pf_rd_t=15051&pf_rd_i=genre&ref_=ft_gnr_pr4_i_2',\n",
       " 'https://www.imdb.com/search/title?genres=fantasy&explore=title_type,genres&pf_rd_m=A2FGELUUNOQJNL&pf_rd_p=fd0c0dd4-de47-4168-baa8-239e02fd9ee7&pf_rd_r=YGNJB356SP7DCQVZXY9Z&pf_rd_s=center-4&pf_rd_t=15051&pf_rd_i=genre&ref_=ft_gnr_pr4_i_3',\n",
       " 'https://www.imdb.com/search/title?genres=comedy,romance&explore=title_type,genres&pf_rd_m=A2FGELUUNOQJNL&pf_rd_p=a581b14c-5a82-4e29-9cf8-54f909ced9e1&pf_rd_r=YGNJB356SP7DCQVZXY9Z&pf_rd_s=center-5&pf_rd_t=15051&pf_rd_i=genre&ref_=ft_gnr_pr5_i_1',\n",
       " 'https://www.imdb.com/search/title?genres=action,comedy&explore=title_type,genres&pf_rd_m=A2FGELUUNOQJNL&pf_rd_p=a581b14c-5a82-4e29-9cf8-54f909ced9e1&pf_rd_r=YGNJB356SP7DCQVZXY9Z&pf_rd_s=center-5&pf_rd_t=15051&pf_rd_i=genre&ref_=ft_gnr_pr5_i_2',\n",
       " 'https://www.imdb.com/search/keyword?keywords=superhero&pf_rd_m=A2FGELUUNOQJNL&pf_rd_p=a581b14c-5a82-4e29-9cf8-54f909ced9e1&pf_rd_r=YGNJB356SP7DCQVZXY9Z&pf_rd_s=center-5&pf_rd_t=15051&pf_rd_i=genre&ref_=ft_gnr_pr5_i_3']"
      ]
     },
     "execution_count": 16,
     "metadata": {},
     "output_type": "execute_result"
    }
   ],
   "source": [
    "gen"
   ]
  },
  {
   "cell_type": "code",
   "execution_count": 17,
   "id": "cf22b66b-dc14-4ecd-b140-fb97f98209eb",
   "metadata": {},
   "outputs": [],
   "source": [
    "for u in range (1,15):\n",
    "    driver.get(str(gen[u]))\n",
    "    for i in range (10):\n",
    "        time.sleep(5)\n",
    "        imdbsoup = BeautifulSoup(driver.page_source)\n",
    "        titulos=[element.text for element in imdbsoup.select('div.lister-item-content > h3.lister-item-header > a')]\n",
    "        años=[element.text.strip('()') for element in imdbsoup.select('div.lister-item-content > h3.lister-item-header > span.lister-item-year.text-muted.unbold')]\n",
    "        generos=[element.text.strip(' \\n') for element in imdbsoup.select('span.genre')]\n",
    "        datos = {'Titulo': titulos, 'Año de estreno - Año finalización': años, 'Generos':generos}\n",
    "        df = pd.DataFrame(datos)\n",
    "        df_base=df_base.append(df)\n",
    "        element = driver.find_element(By.LINK_TEXT, (\"Next »\"))\n",
    "        element.click()"
   ]
  },
  {
   "cell_type": "code",
   "execution_count": 18,
   "id": "67ab8c31-4c91-4992-87bf-8aec3c0373c7",
   "metadata": {},
   "outputs": [
    {
     "data": {
      "text/plain": [
       "(7500, 3)"
      ]
     },
     "execution_count": 18,
     "metadata": {},
     "output_type": "execute_result"
    }
   ],
   "source": [
    "df_base.shape"
   ]
  },
  {
   "cell_type": "code",
   "execution_count": 19,
   "id": "50bc3fac-b0ee-4dee-9840-7021784f35cc",
   "metadata": {},
   "outputs": [
    {
     "data": {
      "text/html": [
       "<div>\n",
       "<style scoped>\n",
       "    .dataframe tbody tr th:only-of-type {\n",
       "        vertical-align: middle;\n",
       "    }\n",
       "\n",
       "    .dataframe tbody tr th {\n",
       "        vertical-align: top;\n",
       "    }\n",
       "\n",
       "    .dataframe thead th {\n",
       "        text-align: right;\n",
       "    }\n",
       "</style>\n",
       "<table border=\"1\" class=\"dataframe\">\n",
       "  <thead>\n",
       "    <tr style=\"text-align: right;\">\n",
       "      <th></th>\n",
       "      <th>Titulo</th>\n",
       "      <th>Año de estreno - Año finalización</th>\n",
       "      <th>Generos</th>\n",
       "    </tr>\n",
       "  </thead>\n",
       "  <tbody>\n",
       "    <tr>\n",
       "      <th>0</th>\n",
       "      <td>El año de mi graduación</td>\n",
       "      <td>2022</td>\n",
       "      <td>Comedy, Drama</td>\n",
       "    </tr>\n",
       "    <tr>\n",
       "      <th>1</th>\n",
       "      <td>Everything Everywhere All at Once</td>\n",
       "      <td>2022</td>\n",
       "      <td>Action, Adventure, Comedy</td>\n",
       "    </tr>\n",
       "    <tr>\n",
       "      <th>2</th>\n",
       "      <td>She-Hulk: Attorney at Law</td>\n",
       "      <td>2022–</td>\n",
       "      <td>Action, Adventure, Comedy</td>\n",
       "    </tr>\n",
       "    <tr>\n",
       "      <th>3</th>\n",
       "      <td>La Ciudad Perdida</td>\n",
       "      <td>2022</td>\n",
       "      <td>Action, Adventure, Comedy</td>\n",
       "    </tr>\n",
       "    <tr>\n",
       "      <th>4</th>\n",
       "      <td>This is Us</td>\n",
       "      <td>2016–2022</td>\n",
       "      <td>Comedy, Drama, Romance</td>\n",
       "    </tr>\n",
       "    <tr>\n",
       "      <th>...</th>\n",
       "      <td>...</td>\n",
       "      <td>...</td>\n",
       "      <td>...</td>\n",
       "    </tr>\n",
       "    <tr>\n",
       "      <th>45</th>\n",
       "      <td>Ultravioleta</td>\n",
       "      <td>2006</td>\n",
       "      <td>Action, Sci-Fi</td>\n",
       "    </tr>\n",
       "    <tr>\n",
       "      <th>46</th>\n",
       "      <td>Sailor Moon</td>\n",
       "      <td>1992–1997</td>\n",
       "      <td>Animation, Action, Adventure</td>\n",
       "    </tr>\n",
       "    <tr>\n",
       "      <th>47</th>\n",
       "      <td>Spider-Man</td>\n",
       "      <td>2018 Video Game</td>\n",
       "      <td>Action, Adventure, Fantasy</td>\n",
       "    </tr>\n",
       "    <tr>\n",
       "      <th>48</th>\n",
       "      <td>24: Live Another Day</td>\n",
       "      <td>2014</td>\n",
       "      <td>Action, Crime, Drama</td>\n",
       "    </tr>\n",
       "    <tr>\n",
       "      <th>49</th>\n",
       "      <td>The Starving Games</td>\n",
       "      <td>2013</td>\n",
       "      <td>Comedy, Sci-Fi</td>\n",
       "    </tr>\n",
       "  </tbody>\n",
       "</table>\n",
       "<p>7500 rows × 3 columns</p>\n",
       "</div>"
      ],
      "text/plain": [
       "                               Titulo Año de estreno - Año finalización  \\\n",
       "0             El año de mi graduación                              2022   \n",
       "1   Everything Everywhere All at Once                              2022   \n",
       "2           She-Hulk: Attorney at Law                            2022–    \n",
       "3                   La Ciudad Perdida                              2022   \n",
       "4                          This is Us                         2016–2022   \n",
       "..                                ...                               ...   \n",
       "45                       Ultravioleta                              2006   \n",
       "46                        Sailor Moon                         1992–1997   \n",
       "47                         Spider-Man                   2018 Video Game   \n",
       "48               24: Live Another Day                              2014   \n",
       "49                 The Starving Games                              2013   \n",
       "\n",
       "                         Generos  \n",
       "0                  Comedy, Drama  \n",
       "1      Action, Adventure, Comedy  \n",
       "2      Action, Adventure, Comedy  \n",
       "3      Action, Adventure, Comedy  \n",
       "4         Comedy, Drama, Romance  \n",
       "..                           ...  \n",
       "45                Action, Sci-Fi  \n",
       "46  Animation, Action, Adventure  \n",
       "47    Action, Adventure, Fantasy  \n",
       "48          Action, Crime, Drama  \n",
       "49                Comedy, Sci-Fi  \n",
       "\n",
       "[7500 rows x 3 columns]"
      ]
     },
     "execution_count": 19,
     "metadata": {},
     "output_type": "execute_result"
    }
   ],
   "source": []
  },
  {
   "cell_type": "code",
   "execution_count": 20,
   "id": "ffbf4f73-6a4a-404a-8573-c1816138ce4b",
   "metadata": {},
   "outputs": [],
   "source": [
    "df_base.reset_index(drop=True, inplace=True)"
   ]
  },
  {
   "cell_type": "code",
   "execution_count": 21,
   "id": "c285f721-2c88-4de7-81d8-db648a467471",
   "metadata": {},
   "outputs": [
    {
     "data": {
      "text/html": [
       "<div>\n",
       "<style scoped>\n",
       "    .dataframe tbody tr th:only-of-type {\n",
       "        vertical-align: middle;\n",
       "    }\n",
       "\n",
       "    .dataframe tbody tr th {\n",
       "        vertical-align: top;\n",
       "    }\n",
       "\n",
       "    .dataframe thead th {\n",
       "        text-align: right;\n",
       "    }\n",
       "</style>\n",
       "<table border=\"1\" class=\"dataframe\">\n",
       "  <thead>\n",
       "    <tr style=\"text-align: right;\">\n",
       "      <th></th>\n",
       "      <th>Titulo</th>\n",
       "      <th>Año de estreno - Año finalización</th>\n",
       "      <th>Generos</th>\n",
       "    </tr>\n",
       "  </thead>\n",
       "  <tbody>\n",
       "    <tr>\n",
       "      <th>0</th>\n",
       "      <td>El año de mi graduación</td>\n",
       "      <td>2022</td>\n",
       "      <td>Comedy, Drama</td>\n",
       "    </tr>\n",
       "    <tr>\n",
       "      <th>1</th>\n",
       "      <td>Everything Everywhere All at Once</td>\n",
       "      <td>2022</td>\n",
       "      <td>Action, Adventure, Comedy</td>\n",
       "    </tr>\n",
       "    <tr>\n",
       "      <th>2</th>\n",
       "      <td>She-Hulk: Attorney at Law</td>\n",
       "      <td>2022–</td>\n",
       "      <td>Action, Adventure, Comedy</td>\n",
       "    </tr>\n",
       "    <tr>\n",
       "      <th>3</th>\n",
       "      <td>La Ciudad Perdida</td>\n",
       "      <td>2022</td>\n",
       "      <td>Action, Adventure, Comedy</td>\n",
       "    </tr>\n",
       "    <tr>\n",
       "      <th>4</th>\n",
       "      <td>This is Us</td>\n",
       "      <td>2016–2022</td>\n",
       "      <td>Comedy, Drama, Romance</td>\n",
       "    </tr>\n",
       "    <tr>\n",
       "      <th>...</th>\n",
       "      <td>...</td>\n",
       "      <td>...</td>\n",
       "      <td>...</td>\n",
       "    </tr>\n",
       "    <tr>\n",
       "      <th>7495</th>\n",
       "      <td>Ultravioleta</td>\n",
       "      <td>2006</td>\n",
       "      <td>Action, Sci-Fi</td>\n",
       "    </tr>\n",
       "    <tr>\n",
       "      <th>7496</th>\n",
       "      <td>Sailor Moon</td>\n",
       "      <td>1992–1997</td>\n",
       "      <td>Animation, Action, Adventure</td>\n",
       "    </tr>\n",
       "    <tr>\n",
       "      <th>7497</th>\n",
       "      <td>Spider-Man</td>\n",
       "      <td>2018 Video Game</td>\n",
       "      <td>Action, Adventure, Fantasy</td>\n",
       "    </tr>\n",
       "    <tr>\n",
       "      <th>7498</th>\n",
       "      <td>24: Live Another Day</td>\n",
       "      <td>2014</td>\n",
       "      <td>Action, Crime, Drama</td>\n",
       "    </tr>\n",
       "    <tr>\n",
       "      <th>7499</th>\n",
       "      <td>The Starving Games</td>\n",
       "      <td>2013</td>\n",
       "      <td>Comedy, Sci-Fi</td>\n",
       "    </tr>\n",
       "  </tbody>\n",
       "</table>\n",
       "<p>7500 rows × 3 columns</p>\n",
       "</div>"
      ],
      "text/plain": [
       "                                 Titulo Año de estreno - Año finalización  \\\n",
       "0               El año de mi graduación                              2022   \n",
       "1     Everything Everywhere All at Once                              2022   \n",
       "2             She-Hulk: Attorney at Law                            2022–    \n",
       "3                     La Ciudad Perdida                              2022   \n",
       "4                            This is Us                         2016–2022   \n",
       "...                                 ...                               ...   \n",
       "7495                       Ultravioleta                              2006   \n",
       "7496                        Sailor Moon                         1992–1997   \n",
       "7497                         Spider-Man                   2018 Video Game   \n",
       "7498               24: Live Another Day                              2014   \n",
       "7499                 The Starving Games                              2013   \n",
       "\n",
       "                           Generos  \n",
       "0                    Comedy, Drama  \n",
       "1        Action, Adventure, Comedy  \n",
       "2        Action, Adventure, Comedy  \n",
       "3        Action, Adventure, Comedy  \n",
       "4           Comedy, Drama, Romance  \n",
       "...                            ...  \n",
       "7495                Action, Sci-Fi  \n",
       "7496  Animation, Action, Adventure  \n",
       "7497    Action, Adventure, Fantasy  \n",
       "7498          Action, Crime, Drama  \n",
       "7499                Comedy, Sci-Fi  \n",
       "\n",
       "[7500 rows x 3 columns]"
      ]
     },
     "execution_count": 21,
     "metadata": {},
     "output_type": "execute_result"
    }
   ],
   "source": [
    "df_base"
   ]
  },
  {
   "cell_type": "code",
   "execution_count": 23,
   "id": "ffaf8425-6ac1-4be0-83e1-fa1d41e14bc7",
   "metadata": {},
   "outputs": [],
   "source": [
    "df_base.to_csv('imdb_set_noindex.csv', index=False)"
   ]
  },
  {
   "cell_type": "code",
   "execution_count": null,
   "id": "ee05c2ae-5a38-427d-8b0a-95777d9014f0",
   "metadata": {},
   "outputs": [],
   "source": []
  },
  {
   "cell_type": "code",
   "execution_count": null,
   "id": "407e94f2-e75d-4e30-b0a2-a6c170e196fa",
   "metadata": {},
   "outputs": [],
   "source": []
  },
  {
   "cell_type": "code",
   "execution_count": null,
   "id": "9db1fb6d-ed2a-4314-8db5-5f2b27f39770",
   "metadata": {},
   "outputs": [],
   "source": []
  },
  {
   "cell_type": "code",
   "execution_count": null,
   "id": "e6f0da6b-871f-44ef-87f1-a86c27b37e39",
   "metadata": {},
   "outputs": [],
   "source": []
  }
 ],
 "metadata": {
  "kernelspec": {
   "display_name": "Python 3 (ipykernel)",
   "language": "python",
   "name": "python3"
  },
  "language_info": {
   "codemirror_mode": {
    "name": "ipython",
    "version": 3
   },
   "file_extension": ".py",
   "mimetype": "text/x-python",
   "name": "python",
   "nbconvert_exporter": "python",
   "pygments_lexer": "ipython3",
   "version": "3.9.7"
  }
 },
 "nbformat": 4,
 "nbformat_minor": 5
}
